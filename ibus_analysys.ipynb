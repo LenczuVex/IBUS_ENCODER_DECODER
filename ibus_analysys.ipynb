{
 "cells": [
  {
   "cell_type": "code",
   "execution_count": 1,
   "metadata": {},
   "outputs": [],
   "source": [
    "import matplotlib.pyplot as plt"
   ]
  },
  {
   "cell_type": "markdown",
   "metadata": {},
   "source": [
    "Data \"carefully\" take from the  connection of reciever of normal  tx transmitter "
   ]
  },
  {
   "cell_type": "code",
   "execution_count": 2,
   "metadata": {},
   "outputs": [],
   "source": [
    "data = [\n",
    "    208, 7, 232, 3, 208, 7, 208, 7, 208, 7, 220, 22, 2, 3, 208, 7, 208, 7, 208, 7, 208, 5, 220, 243, 32, 64, 7, 208, \n",
    "    208, 220, 5, 32, 64, 220, 5, 220, 5, 199, 7, 217, 5, 208, 7, 232, 3, 208, 7, 208, 7, 208, 7, 208, 5, 220, 243, 32, \n",
    "    64, 223, 208, 7, 208, 7, 208, 7, 208, 7, 220, 5, 220, 5, 220, 5, 220, 5, 143, 243, 32, 64, 220, 5, 220, 5, 199, 7, \n",
    "    217, 5, 208, 7, 232, 3, 208, 7, 208, 7, 208, 7, 208, 7, 220, 5, 220, 5, 220, 5, 220, 5, 143, 243, 32, 64, 220, 5, \n",
    "    220, 5, 199, 7, 217, 5, 208, 7, 232, 3, 208, 7, 208, 7, 208, 7, 208, 7, 220, 5, 220, 5, 220, 5, 220, 5, 143, 243, \n",
    "    32, 64, 220, 5, 220, 5, 199, 7, 217, 5, 208, 7, 232, 3, 208, 7, 208, 7, 208, 7, 208, 7, 220, 5, 220, 5, 220, 5, \n",
    "    220, 5, 143, 243, 32, 64, 220, 5, 220, 5, 199, 7, 217, 5, 208, 7, 232, 3, 208, 7, 208, 7, 208, 7, 208, 7, 220, 5, \n",
    "    220, 5, 220, 5, 220, 5, 143, 243, 32, 64, 220, 5, 220, 5, 199, 7, 217, 5, 208, 7, 232, 3, 208, 7, 208, 7, 208, 7, \n",
    "    208, 7, 220, 5, 220, 5, 220, 5, 220, 5, 143, 243, 32, 64, 220, 5, 220, 5, 199, 7, 217, 5, 208, 7, 232, 3, 208, 7, \n",
    "    208, 7, 208, 7, 208, 7, 220, 5, 220, 5, 220, 5, 220, 5, 143, 243, 32, 64, 220, 5, 220, 5, 199, 7, 217, 5, 208, 7, \n",
    "    232, 3, 208, 7, 208, 7, 208, 7, 220, 220, 243, 32, 64, 220, 5, 220, 5, 199, 7, 217, 5, 208, 7, 232, 3, 208, 7, 208, \n",
    "    7, 208, 7, 220, 220, 143, 32, 64, 220, 5, 220, 5, 199, 7, 217, 5, 208, 7, 232, 3, 208, 7, 208, 7, 208, 7, 220, 220, \n",
    "    243, 32, 64, 220, 5, 220, 5, 199, 7, 217, 5, 208, 7, 232, 3, 208, 7, 208, 7, 208, 7, 5, 220, 243, 32, 64, 220, 5, \n",
    "    220, 5, 199, 7, 217, 5, 208, 7, 232, 3, 208, 7, 208, 7, 208, 7, 220, 5, 220, 5, 220, 5, 220, 5, 143, 243, 32, 64, \n",
    "    220, 5, 220, 5, 199, 7, 217, 5, 208, 7, 232, 3, 208, 7, 208, 7, 208, 7, 220, 220, 143, 32, 64, 220, 5, 220, 5, 199, \n",
    "    7, 217, 5, 208, 7, 232, 3, 208, 7, 208, 7, 208, 7, 220, 220, 243, 32, 64, 220, 5, 220, 5, 199, 7, 217, 5, 208, 7, \n",
    "    232, 3, 208, 7, 208, 7, 208, 7, 220, 220, 32, 64, 220, 5, 220, 5, 199, 7, 217, 5, 208, 7, 232, 3, 208, 7, 208, 7, \n",
    "    208, 7, 220, 5, 243, 32, 64, 220, 5, 220, 5, 199, 7, 217, 5, 208, 7, 232, 3, 208, 7, 208, 7, 208, 7\n",
    "]\n"
   ]
  },
  {
   "cell_type": "markdown",
   "metadata": {},
   "source": [
    "![title](betaf.png)"
   ]
  },
  {
   "cell_type": "code",
   "execution_count": 5,
   "metadata": {},
   "outputs": [
    {
     "data": {
      "image/png": "[encoded data removed]",
      "text/plain": [
       "<Figure size 640x480 with 1 Axes>"
      ]
     },
     "metadata": {},
     "output_type": "display_data"
    }
   ],
   "source": [
    "counts , edges , bars = plt.hist(data, bins=30, color='skyblue', edgecolor='black')\n",
    "plt.show()"
   ]
  },
  {
   "cell_type": "code",
   "execution_count": 39,
   "metadata": {},
   "outputs": [
    {
     "name": "stdout",
     "output_type": "stream",
     "text": [
      "[76, 108, 140, 172, 204, 236]\n",
      "32\n",
      "32\n",
      "32\n",
      "32\n",
      "32\n",
      "[32, 64, 220, 5, 220, 5, 199, 7, 217, 5, 208, 7, 232, 3, 208, 7, 208, 7, 208, 7, 208, 7, 220, 5, 220, 5, 220, 5, 220, 5, 143, 243]\n",
      "[32, 64, 220, 5, 220, 5, 199, 7, 217, 5, 208, 7, 232, 3, 208, 7, 208, 7, 208, 7, 208, 7, 220, 5, 220, 5, 220, 5, 220, 5, 143, 243]\n",
      "[32, 64, 220, 5, 220, 5, 199, 7, 217, 5, 208, 7, 232, 3, 208, 7, 208, 7, 208, 7, 208, 7, 220, 5, 220, 5, 220, 5, 220, 5, 143, 243]\n",
      "[32, 64, 220, 5, 220, 5, 199, 7, 217, 5, 208, 7, 232, 3, 208, 7, 208, 7, 208, 7, 208, 7, 220, 5, 220, 5, 220, 5, 220, 5, 143, 243]\n",
      "[32, 64, 220, 5, 220, 5, 199, 7, 217, 5, 208, 7, 232, 3, 208, 7, 208, 7, 208, 7, 208, 7, 220, 5, 220, 5, 220, 5, 220, 5, 143, 243]\n"
     ]
    },
    {
     "data": {
      "text/plain": [
       "'\\nfor i in indexes:\\n    print(data[i])\\n'"
      ]
     },
     "execution_count": 39,
     "metadata": {},
     "output_type": "execute_result"
    }
   ],
   "source": [
    "\n",
    "\n",
    "def search_for_n_values(search_array, value , number_of_values):\n",
    "    indexes = []\n",
    "    start = 0\n",
    "    end = len(search_array)-1\n",
    "    \n",
    "    for i in range(number_of_values):\n",
    "\n",
    "        indexes.append(data.index(value,start,end))\n",
    "        start = indexes[i] + 1\n",
    "    return indexes\n",
    "\n",
    "\n",
    "indexes = search_for_n_values(data , 32 , 16 )\n",
    "\n",
    "\n",
    "indexes_of_perfect_frames = []\n",
    "for i in range(len(indexes) -1):\n",
    "    distance = indexes[i+1] - indexes[i]\n",
    "    #print(distance)\n",
    "    if distance == 32 : \n",
    "        indexes_of_perfect_frames.append(indexes[i])\n",
    "\n",
    "\n",
    "print(indexes_of_perfect_frames)\n",
    "\n",
    "for i in range(len(indexes_of_perfect_frames) - 1 ):\n",
    "    print(indexes_of_perfect_frames[i+1] - indexes_of_perfect_frames[i])\n",
    "\n",
    "\n",
    "all_frames = []\n",
    "for i in range(len(indexes_of_perfect_frames)-1):\n",
    "    all_frames.append(data[indexes_of_perfect_frames[i] : indexes_of_perfect_frames[i+1]    ])\n",
    "\n",
    "for i in all_frames:\n",
    "    print(i)\n",
    "\n",
    "\n",
    "\"\"\"\n",
    "for i in indexes:\n",
    "    print(data[i])\n",
    "\"\"\""
   ]
  },
  {
   "cell_type": "markdown",
   "metadata": {},
   "source": []
  },
  {
   "cell_type": "markdown",
   "metadata": {},
   "source": [
    "Frame looks as follows \n",
    "positions = \n",
    "0:1 headers \n",
    "2:30 channel values\n",
    "31:32 crc \n"
   ]
  },
  {
   "cell_type": "code",
   "execution_count": 43,
   "metadata": {},
   "outputs": [
    {
     "data": {
      "text/plain": [
       "32"
      ]
     },
     "execution_count": 43,
     "metadata": {},
     "output_type": "execute_result"
    }
   ],
   "source": [
    "len(all_frames[0])"
   ]
  }
 ],
 "metadata": {
  "kernelspec": {
   "display_name": "Python 3",
   "language": "python",
   "name": "python3"
  },
  "language_info": {
   "codemirror_mode": {
    "name": "ipython",
    "version": 3
   },
   "file_extension": ".py",
   "mimetype": "text/x-python",
   "name": "python",
   "nbconvert_exporter": "python",
   "pygments_lexer": "ipython3",
   "version": "3.10.8"
  }
 },
 "nbformat": 4,
 "nbformat_minor": 2
}
